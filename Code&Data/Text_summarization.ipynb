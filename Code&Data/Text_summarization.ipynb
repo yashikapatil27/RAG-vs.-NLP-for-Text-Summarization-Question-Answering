{
 "cells": [
  {
   "cell_type": "markdown",
   "metadata": {},
   "source": [
    "### Text Summarization with RAG"
   ]
  },
  {
   "cell_type": "code",
   "execution_count": 6,
   "metadata": {},
   "outputs": [],
   "source": [
    "from langchain_community.llms import Ollama\n",
    "#from langchain_openai.chat_models import ChatOpenAI\n",
    "from langchain_community.embeddings import OllamaEmbeddings\n",
    "#from langchain_openai.embeddings import OpenAIEmbeddings"
   ]
  },
  {
   "cell_type": "code",
   "execution_count": 7,
   "metadata": {},
   "outputs": [],
   "source": [
    "MODEL = \"llama2\""
   ]
  },
  {
   "cell_type": "code",
   "execution_count": 8,
   "metadata": {},
   "outputs": [],
   "source": [
    "model = Ollama(model=MODEL)"
   ]
  },
  {
   "cell_type": "code",
   "execution_count": 9,
   "metadata": {},
   "outputs": [],
   "source": [
    "from langchain_core.output_parsers import StrOutputParser\n",
    "\n",
    "parser = StrOutputParser()\n",
    "\n",
    "chain = model | parser "
   ]
  },
  {
   "cell_type": "code",
   "execution_count": 10,
   "metadata": {},
   "outputs": [
    {
     "data": {
      "text/plain": [
       "'\\nAnswer the question based on the context below. If you can\\'t \\nanswer the question, reply \"I don\\'t know\". \\n\\nContext: Here is some context\\n\\nQuestion: Here is a question\\n'"
      ]
     },
     "execution_count": 10,
     "metadata": {},
     "output_type": "execute_result"
    }
   ],
   "source": [
    "from langchain.prompts import PromptTemplate\n",
    "\n",
    "template = \"\"\"\n",
    "Answer the question based on the context below. If you can't \n",
    "answer the question, reply \"I don't know\". \n",
    "\n",
    "Context: {context}\n",
    "\n",
    "Question: {question}\n",
    "\"\"\"\n",
    "\n",
    "prompt = PromptTemplate.from_template(template)\n",
    "prompt.format(context=\"Here is some context\", question=\"Here is a question\")"
   ]
  },
  {
   "cell_type": "code",
   "execution_count": 11,
   "metadata": {},
   "outputs": [],
   "source": [
    "chain = prompt | model | parser"
   ]
  },
  {
   "cell_type": "code",
   "execution_count": 12,
   "metadata": {},
   "outputs": [
    {
     "data": {
      "text/plain": [
       "[Document(page_content='Alice was beginning to get very tired of sitting by her sister on the bank, and of having nothing to do: once or twice she had peeped into the book her sister was reading, but it had no pictures or conversations in it, “and what is the use of a book,” thought Alice “without pictures or conversations?”\\n\\nSo she was considering in her own mind (as well as she could, for the hot day made her feel very sleepy and stupid), whether the pleasure of making a daisy-chain would be worth the trouble of getting up and picking the daisies, when suddenly a White Rabbit with pink eyes ran close by her.\\n\\nThere was nothing so very remarkable in that; nor did Alice think it so very much out of the way to hear the Rabbit say to itself, “Oh dear! Oh dear! I shall be late!” (when she thought it over afterwards, it occurred to her that she ought to have wondered at this, but at the time it all seemed quite natural); but when the Rabbit actually took a watch out of its waistcoat-pocket, and looked at it, and then hurried on, Alice started to her feet, for it flashed across her mind that she had never before seen a rabbit with either a waistcoat-pocket, or a watch to take out of it, and burning with curiosity, she ran across the field after it, and fortunately was just in time to see it pop down a large rabbit-hole under the hedge.\\n\\nIn another moment down went Alice after it, never once considering how in the world she was to get out again.\\n\\nThe rabbit-hole went straight on like a tunnel for some way, and then dipped suddenly down, so suddenly that Alice had not a moment to think about stopping herself before she found herself falling down a very deep well.\\n\\nEither the well was very deep, or she fell very slowly, for she had plenty of time as she went down to look about her and to wonder what was going to happen next. First, she tried to look down and make out what she was coming to, but it was too dark to see anything; then she looked at the sides of the well, and noticed that they were filled with cupboards and book-shelves; here and there she saw maps and pictures hung upon pegs. She took down a jar from one of the shelves as she passed; it was labelled “ORANGE MARMALADE”, but to her great disappointment it was empty: she did not like to drop the jar for fear of killing somebody underneath, so managed to put it into one of the cupboards as she fell past it.\\n\\n“Well!” thought Alice to herself, “after such a fall as this, I shall think nothing of tumbling down stairs! How brave they’ll all think me at home! Why, I wouldn’t say anything about it, even if I fell off the top of the house!” (Which was very likely true.)\\n\\nDown, down, down. Would the fall never come to an end? “I wonder how many miles I’ve fallen by this time?” she said aloud. “I must be getting somewhere near the centre of the earth. Let me see: that would be four thousand miles down, I think—” (for, you see, Alice had learnt several things of this sort in her lessons in the schoolroom, and though this was not a very good opportunity for showing off her knowledge, as there was no one to listen to her, still it was good practice to say it over) “—yes, that’s about the right distance—but then I wonder what Latitude or Longitude I’ve got to?” (Alice had no idea what Latitude was, or Longitude either, but thought they were nice grand words to say.)', metadata={'source': 'Data/alice_wonderland_chapter1.txt'}),\n",
       " Document(page_content='Presently she began again. “I wonder if I shall fall right through the earth! How funny it’ll seem to come out among the people that walk with their heads downward! The Antipathies, I think—” (she was rather glad there was no one listening, this time, as it didn’t sound at all the right word) “—but I shall have to ask them what the name of the country is, you know. Please, Ma’am, is this New Zealand or Australia?” (and she tried to curtsey as she spoke—fancy curtseying as you’re falling through the air! Do you think you could manage it?) “And what an ignorant little girl she’ll think me for asking! No, it’ll never do to ask: perhaps I shall see it written up somewhere.”\\n\\nDown, down, down. There was nothing else to do, so Alice soon began talking again. “Dinah’ll miss me very much to-night, I should think!” (Dinah was the cat.) “I hope they’ll remember her saucer of milk at tea-time. Dinah my dear! I wish you were down here with me! There are no mice in the air, I’m afraid, but you might catch a bat, and that’s very like a mouse, you know. But do cats eat bats, I wonder?” And here Alice began to get rather sleepy, and went on saying to herself, in a dreamy sort of way, “Do cats eat bats? Do cats eat bats?” and sometimes, “Do bats eat cats?” for, you see, as she couldn’t answer either question, it didn’t much matter which way she put it. She felt that she was dozing off, and had just begun to dream that she was walking hand in hand with Dinah, and saying to her very earnestly, “Now, Dinah, tell me the truth: did you ever eat a bat?” when suddenly, thump! thump! down she came upon a heap of sticks and dry leaves, and the fall was over.\\n\\nAlice was not a bit hurt, and she jumped up on to her feet in a moment: she looked up, but it was all dark overhead; before her was another long passage, and the White Rabbit was still in sight, hurrying down it. There was not a moment to be lost: away went Alice like the wind, and was just in time to hear it say, as it turned a corner, “Oh my ears and whiskers, how late it’s getting!” She was close behind it when she turned the corner, but the Rabbit was no longer to be seen: she found herself in a long, low hall, which was lit up by a row of lamps hanging from the roof.\\n\\nThere were doors all round the hall, but they were all locked; and when Alice had been all the way down one side and up the other, trying every door, she walked sadly down the middle, wondering how she was ever to get out again.\\n\\nSuddenly she came upon a little three-legged table, all made of solid glass; there was nothing on it except a tiny golden key, and Alice’s first thought was that it might belong to one of the doors of the hall; but, alas! either the locks were too large, or the key was too small, but at any rate it would not open any of them. However, on the second time round, she came upon a low curtain she had not noticed before, and behind it was a little door about fifteen inches high: she tried the little golden key in the lock, and to her great delight it fitted!\\n\\nAlice opened the door and found that it led into a small passage, not much larger than a rat-hole: she knelt down and looked along the passage into the loveliest garden you ever saw. How she longed to get out of that dark hall, and wander about among those beds of bright flowers and those cool fountains, but she could not even get her head through the doorway; “and even if my head would go through,” thought poor Alice, “it would be of very little use without my shoulders. Oh, how I wish I could shut up like a telescope! I think I could, if I only knew how to begin.” For, you see, so many out-of-the-way things had happened lately, that Alice had begun to think that very few things indeed were really impossible.', metadata={'source': 'Data/alice_wonderland_chapter1.txt'}),\n",
       " Document(page_content='There seemed to be no use in waiting by the little door, so she went back to the table, half hoping she might find another key on it, or at any rate a book of rules for shutting people up like telescopes: this time she found a little bottle on it, (“which certainly was not here before,” said Alice,) and round the neck of the bottle was a paper label, with the words “DRINK ME,” beautifully printed on it in large letters.\\n\\nIt was all very well to say “Drink me,” but the wise little Alice was not going to do that in a hurry. “No, I’ll look first,” she said, “and see whether it’s marked ‘poison’ or not”; for she had read several nice little histories about children who had got burnt, and eaten up by wild beasts and other unpleasant things, all because they would not remember the simple rules their friends had taught them: such as, that a red-hot poker will burn you if you hold it too long; and that if you cut your finger very deeply with a knife, it usually bleeds; and she had never forgotten that, if you drink much from a bottle marked “poison,” it is almost certain to disagree with you, sooner or later.\\n\\nHowever, this bottle was not marked “poison,” so Alice ventured to taste it, and finding it very nice, (it had, in fact, a sort of mixed flavour of cherry-tart, custard, pine-apple, roast turkey, toffee, and hot buttered toast,) she very soon finished it off.\\n\\n“What a curious feeling!” said Alice; “I must be shutting up like a telescope.”\\n\\nAnd so it was indeed: she was now only ten inches high, and her face brightened up at the thought that she was now the right size for going through the little door into that lovely garden. First, however, she waited for a few minutes to see if she was going to shrink any further: she felt a little nervous about this; “for it might end, you know,” said Alice to herself, “in my going out altogether, like a candle. I wonder what I should be like then?” And she tried to fancy what the flame of a candle is like after the candle is blown out, for she could not remember ever having seen such a thing.\\n\\nAfter a while, finding that nothing more happened, she decided on going into the garden at once; but, alas for poor Alice! when she got to the door, she found she had forgotten the little golden key, and when she went back to the table for it, she found she could not possibly reach it: she could see it quite plainly through the glass, and she tried her best to climb up one of the legs of the table, but it was too slippery; and when she had tired herself out with trying, the poor little thing sat down and cried.\\n\\n“Come, there’s no use in crying like that!” said Alice to herself, rather sharply; “I advise you to leave off this minute!” She generally gave herself very good advice, (though she very seldom followed it), and sometimes she scolded herself so severely as to bring tears into her eyes; and once she remembered trying to box her own ears for having cheated herself in a game of croquet she was playing against herself, for this curious child was very fond of pretending to be two people. “But it’s no use now,” thought poor Alice, “to pretend to be two people! Why, there’s hardly enough of me left to make one respectable person!”\\n\\nSoon her eye fell on a little glass box that was lying under the table: she opened it, and found in it a very small cake, on which the words “EAT ME” were beautifully marked in currants. “Well, I’ll eat it,” said Alice, “and if it makes me grow larger, I can reach the key; and if it makes me grow smaller, I can creep under the door; so either way I’ll get into the garden, and I don’t care which happens!”', metadata={'source': 'Data/alice_wonderland_chapter1.txt'}),\n",
       " Document(page_content='She ate a little bit, and said anxiously to herself, “Which way? Which way?”, holding her hand on the top of her head to feel which way it was growing, and she was quite surprised to find that she remained the same size: to be sure, this generally happens when one eats cake, but Alice had got so much into the way of expecting nothing but out-of-the-way things to happen, that it seemed quite dull and stupid for life to go on in the common way.\\n\\nSo she set to work, and very soon finished off the cake.', metadata={'source': 'Data/alice_wonderland_chapter1.txt'})]"
      ]
     },
     "execution_count": 12,
     "metadata": {},
     "output_type": "execute_result"
    }
   ],
   "source": [
    "from langchain_community.document_loaders import TextLoader\n",
    "\n",
    "# Specify the encoding as 'utf-8'\n",
    "loader = TextLoader(\"Data/alice_wonderland_chapter1.txt\", encoding='utf-8')\n",
    "pages = loader.load_and_split()\n",
    "pages\n"
   ]
  },
  {
   "cell_type": "code",
   "execution_count": 3,
   "metadata": {},
   "outputs": [
    {
     "name": "stderr",
     "output_type": "stream",
     "text": [
      "C:\\Users\\yashi\\AppData\\Local\\Packages\\PythonSoftwareFoundation.Python.3.11_qbz5n2kfra8p0\\LocalCache\\local-packages\\Python311\\site-packages\\pydantic\\_migration.py:283: UserWarning: `pydantic.error_wrappers:ValidationError` has been moved to `pydantic:ValidationError`.\n",
      "  warnings.warn(f'`{import_path}` has been moved to `{new_location}`.')\n"
     ]
    }
   ],
   "source": [
    "from langchain_community.vectorstores import DocArrayInMemorySearch\n",
    "embeddings = OllamaEmbeddings(model=MODEL)\n",
    "vectorstore = DocArrayInMemorySearch.from_documents(pages, embedding=embeddings)"
   ]
  },
  {
   "cell_type": "code",
   "execution_count": 13,
   "metadata": {},
   "outputs": [],
   "source": [
    "retriever = vectorstore.as_retriever()"
   ]
  },
  {
   "cell_type": "code",
   "execution_count": 14,
   "metadata": {},
   "outputs": [],
   "source": [
    "from operator import itemgetter\n",
    "\n",
    "chain = (\n",
    "    {\n",
    "        \"context\": itemgetter(\"question\") | retriever,\n",
    "        \"question\": itemgetter(\"question\"),\n",
    "    }\n",
    "    | prompt\n",
    "    | model\n",
    "    | parser\n",
    ")"
   ]
  },
  {
   "cell_type": "code",
   "execution_count": 15,
   "metadata": {},
   "outputs": [
    {
     "name": "stdout",
     "output_type": "stream",
     "text": [
      "Question: Summarize this book. Use only the text within this book for generating the summary. Write the summary in 1000 words.\n",
      "Answer: Alice's Adventures in Wonderland is a fantastical tale of a young girl who falls down a rabbit hole and enters a strange and absurd world filled with illogical creatures and events. The story begins with Alice feeling bored and dissatisfied with her life at home, leading her to daydream about adventures in the countryside. Suddenly, she notices a white rabbit wearing a waistcoat running quickly down a nearby hill, prompting Alice to follow after it. She falls down a deep hole and finds herself in a subterranean area filled with twisting tunnels and dark caves. Alice encounters many strange creatures, including the Cheshire Cat, the Queen of Hearts, and the Mad Hatter. Each creature she meets presents her with absurd puzzles or games that challenge Alice's logic and reasoning. The most notable is the Queen of Hearts, who demands Alice play a game of croquet using living creatures as mallets and balls. Despite these challenges, Alice remains determined to find a way out of Wonderland and return home. Her journey culminates in a climactic encounter with the Queen of Hearts, which ends with Alice shrinking down to size after eating a cake labeled \"EAT ME.\" The story ends with Alice back at home, but she now possesses a newfound appreciation for the absurdity and illogical nature of life.\n",
      "\n",
      "The story explores several themes, including the absurdity of life, the dangers of daydreaming, and the importance of perseverance in the face of adversity. Throughout the tale, Carroll employs a mix of logic and nonsense to create a fantastical world that challenges Alice's understanding of reality and her own sanity. The author's use of wordplay, punning, and illogical events creates an atmosphere of absurdity and surrealism that permeates the entire story. The tale also touches on themes of identity, as Alice's experiences in Wonderland cause her to question who she is and where she belongs.\n",
      "\n",
      "Overall, Alice's Adventures in Wonderland is a timeless tale that continues to captivate readers with its unique blend of logic and nonsense, absurdity, and illogical events. The story's exploration of identity, perseverance, and the nature of reality have made it a beloved classic for generations of readers.\n",
      "\n"
     ]
    }
   ],
   "source": [
    "questions = [\n",
    "    \"Summarize this book. Use only the text within this book for generating the summary. Write the summary in 1000 words.\"\n",
    "]\n",
    "\n",
    "for question in questions:\n",
    "    print(f\"Question: {question}\")\n",
    "    print(f\"Answer: {chain.invoke({'question': question})}\")\n",
    "    print()"
   ]
  },
  {
   "cell_type": "markdown",
   "metadata": {},
   "source": [
    "### Text Summarization with TextRank"
   ]
  },
  {
   "cell_type": "markdown",
   "metadata": {},
   "source": [
    "Cosine Similarity"
   ]
  },
  {
   "cell_type": "code",
   "execution_count": 8,
   "metadata": {},
   "outputs": [
    {
     "name": "stderr",
     "output_type": "stream",
     "text": [
      "[nltk_data] Downloading package punkt to\n",
      "[nltk_data]     C:\\Users\\yashi\\AppData\\Roaming\\nltk_data...\n",
      "[nltk_data]   Package punkt is already up-to-date!\n"
     ]
    }
   ],
   "source": [
    "import numpy as np\n",
    "import pandas as pd\n",
    "import nltk\n",
    "nltk.download('punkt') # one time execution\n",
    "import re"
   ]
  },
  {
   "cell_type": "code",
   "execution_count": 9,
   "metadata": {},
   "outputs": [],
   "source": [
    "from nltk.tokenize import word_tokenize\n",
    "from nltk.tokenize import sent_tokenize\n",
    "from sklearn.feature_extraction.text import TfidfVectorizer\n",
    "from sklearn.metrics.pairwise import cosine_similarity\n",
    "import numpy as np\n",
    "\n",
    "# Load text file\n",
    "def read_text(file_path):\n",
    "    with open(file_path, 'r', encoding='utf-8') as file:\n",
    "        text = file.read()\n",
    "    return text\n",
    "\n",
    "# Tokenization and preprocessing\n",
    "def preprocess_text(text):\n",
    "    sentences = sent_tokenize(text)\n",
    "    preprocessed_sentences = []\n",
    "    for sentence in sentences:\n",
    "        tokens = word_tokenize(sentence)\n",
    "        preprocessed_sentences.append(' '.join(tokens))\n",
    "    return preprocessed_sentences\n",
    "\n",
    "\n",
    "# Read text file\n",
    "text = read_text('Data/alice_wonderland_chapter1.txt')\n",
    "\n",
    "# Preprocess text\n",
    "preprocessed_text = preprocess_text(text)\n"
   ]
  },
  {
   "cell_type": "code",
   "execution_count": 10,
   "metadata": {},
   "outputs": [
    {
     "data": {
      "text/plain": [
       "1917495"
      ]
     },
     "execution_count": 10,
     "metadata": {},
     "output_type": "execute_result"
    }
   ],
   "source": [
    "# Extract word vectors\n",
    "word_embeddings = {}\n",
    "f = open('glove.42B.300d.txt', encoding='utf-8')\n",
    "for line in f:\n",
    "    values = line.split()\n",
    "    word = values[0]\n",
    "    coefs = np.asarray(values[1:], dtype='float32')\n",
    "    word_embeddings[word] = coefs\n",
    "f.close()\n",
    "len(word_embeddings)"
   ]
  },
  {
   "cell_type": "code",
   "execution_count": 11,
   "metadata": {},
   "outputs": [],
   "source": [
    "sentence_vectors = []\n",
    "for i in preprocessed_text:\n",
    "    if len(i) != 0:\n",
    "        v = sum([word_embeddings.get(w, np.zeros((300,))) for w in i.split()]) / (len(i.split()) + 0.001)\n",
    "    else:\n",
    "        v = np.zeros((300,))\n",
    "    sentence_vectors.append(v)\n",
    "\n",
    "# similarity matrix\n",
    "sim_mat = np.zeros([len(preprocessed_text), len(preprocessed_text)])"
   ]
  },
  {
   "cell_type": "code",
   "execution_count": 12,
   "metadata": {},
   "outputs": [],
   "source": [
    "# Define and initialize similarity matrix\n",
    "sim_mat = np.zeros((len(preprocessed_text), len(preprocessed_text)))\n",
    "\n",
    "# Compute cosine similarity between pairs of sentences\n",
    "for i in range(len(preprocessed_text)):\n",
    "    for j in range(len(preprocessed_text)):\n",
    "        if i != j:\n",
    "            sim_mat[i][j] = cosine_similarity(sentence_vectors[i].reshape(1, 300), sentence_vectors[j].reshape(1, 300))[0, 0]\n"
   ]
  },
  {
   "cell_type": "code",
   "execution_count": 13,
   "metadata": {},
   "outputs": [],
   "source": [
    "import networkx as nx\n",
    "\n",
    "nx_graph = nx.from_numpy_array(sim_mat)\n",
    "scores = nx.pagerank(nx_graph)"
   ]
  },
  {
   "cell_type": "code",
   "execution_count": 14,
   "metadata": {},
   "outputs": [],
   "source": [
    "ranked_sentences = sorted(((scores[i],s) for i,s in enumerate(preprocessed_text)), reverse=True)"
   ]
  },
  {
   "cell_type": "code",
   "execution_count": 15,
   "metadata": {},
   "outputs": [
    {
     "name": "stdout",
     "output_type": "stream",
     "text": [
      "Let me see : that would be four thousand miles down , I think— ” ( for , you see , Alice had learnt several things of this sort in her lessons in the schoolroom , and though this was not a very good opportunity for showing off her knowledge , as there was no one to listen to her , still it was good practice to say it over ) “ —yes , that ’ s about the right distance—but then I wonder what Latitude or Longitude I ’ ve got to ? ” ( Alice had no idea what Latitude was , or Longitude either , but thought they were nice grand words to say . )\n",
      "I shall be late ! ” ( when she thought it over afterwards , it occurred to her that she ought to have wondered at this , but at the time it all seemed quite natural ) ; but when the Rabbit actually took a watch out of its waistcoat-pocket , and looked at it , and then hurried on , Alice started to her feet , for it flashed across her mind that she had never before seen a rabbit with either a waistcoat-pocket , or a watch to take out of it , and burning with curiosity , she ran across the field after it , and fortunately was just in time to see it pop down a large rabbit-hole under the hedge .\n",
      "Which way ? ” , holding her hand on the top of her head to feel which way it was growing , and she was quite surprised to find that she remained the same size : to be sure , this generally happens when one eats cake , but Alice had got so much into the way of expecting nothing but out-of-the-way things to happen , that it seemed quite dull and stupid for life to go on in the common way .\n",
      "There was not a moment to be lost : away went Alice like the wind , and was just in time to hear it say , as it turned a corner , “ Oh my ears and whiskers , how late it ’ s getting ! ” She was close behind it when she turned the corner , but the Rabbit was no longer to be seen : she found herself in a long , low hall , which was lit up by a row of lamps hanging from the roof .\n",
      "“ No , I ’ ll look first , ” she said , “ and see whether it ’ s marked ‘ poison ’ or not ” ; for she had read several nice little histories about children who had got burnt , and eaten up by wild beasts and other unpleasant things , all because they would not remember the simple rules their friends had taught them : such as , that a red-hot poker will burn you if you hold it too long ; and that if you cut your finger very deeply with a knife , it usually bleeds ; and she had never forgotten that , if you drink much from a bottle marked “ poison , ” it is almost certain to disagree with you , sooner or later .\n",
      "“ What a curious feeling ! ” said Alice ; “ I must be shutting up like a telescope. ” And so it was indeed : she was now only ten inches high , and her face brightened up at the thought that she was now the right size for going through the little door into that lovely garden .\n",
      "First , however , she waited for a few minutes to see if she was going to shrink any further : she felt a little nervous about this ; “ for it might end , you know , ” said Alice to herself , “ in my going out altogether , like a candle .\n",
      "Alice was beginning to get very tired of sitting by her sister on the bank , and of having nothing to do : once or twice she had peeped into the book her sister was reading , but it had no pictures or conversations in it , “ and what is the use of a book , ” thought Alice “ without pictures or conversations ? ” So she was considering in her own mind ( as well as she could , for the hot day made her feel very sleepy and stupid ) , whether the pleasure of making a daisy-chain would be worth the trouble of getting up and picking the daisies , when suddenly a White Rabbit with pink eyes ran close by her .\n",
      "She felt that she was dozing off , and had just begun to dream that she was walking hand in hand with Dinah , and saying to her very earnestly , “ Now , Dinah , tell me the truth : did you ever eat a bat ? ” when suddenly , thump !\n",
      "“ Come , there ’ s no use in crying like that ! ” said Alice to herself , rather sharply ; “ I advise you to leave off this minute ! ” She generally gave herself very good advice , ( though she very seldom followed it ) , and sometimes she scolded herself so severely as to bring tears into her eyes ; and once she remembered trying to box her own ears for having cheated herself in a game of croquet she was playing against herself , for this curious child was very fond of pretending to be two people .\n"
     ]
    }
   ],
   "source": [
    "# Extract top 10 sentences as the summary\n",
    "for i in range(10):\n",
    "  print(ranked_sentences[i][1])"
   ]
  },
  {
   "cell_type": "markdown",
   "metadata": {},
   "source": [
    "### ROUGE Score for comparison"
   ]
  },
  {
   "cell_type": "code",
   "execution_count": 16,
   "metadata": {},
   "outputs": [
    {
     "name": "stdout",
     "output_type": "stream",
     "text": [
      "ROUGE Score for Reference Summary 1: {'rouge1': Score(precision=0.2184049079754601, recall=0.48501362397820164, fmeasure=0.3011844331641286), 'rougeL': Score(precision=0.10184049079754601, recall=0.22615803814713897, fmeasure=0.14043993231810492)}\n"
     ]
    }
   ],
   "source": [
    "from rouge_score import rouge_scorer\n",
    "\n",
    "def evaluate_rouge(reference, summary):\n",
    "    \"\"\"\n",
    "    Evaluate the ROUGE score of the generated summary compared to the reference summary.\n",
    "\n",
    "    Args:\n",
    "    - reference: List of reference summaries (list of strings)\n",
    "    - summary: Generated summary (string)\n",
    "\n",
    "    Returns:\n",
    "    - rouge_score: ROUGE score (dict)\n",
    "    \"\"\"\n",
    "    # Create a RougeScorer object\n",
    "    scorer = rouge_scorer.RougeScorer(['rouge1', 'rougeL'], use_stemmer=True)\n",
    "    # Calculate the ROUGE score for each reference summary\n",
    "    scores = []\n",
    "    for ref in reference:\n",
    "        score = scorer.score(ref, summary)\n",
    "        scores.append(score)\n",
    "    return scores\n",
    "\n",
    "reference_summaries = [\n",
    "    \"\"\"Alice's Adventures in Wonderland is a fantastical tale of a young girl who falls down a rabbit hole and enters a strange and absurd world filled with illogical creatures and events. The story begins with Alice feeling bored and dissatisfied with her life at home, leading her to daydream about adventures in the countryside. Suddenly, she notices a white rabbit wearing a waistcoat running quickly down a nearby hill, prompting Alice to follow after it. She falls down a deep hole and finds herself in a subterranean area filled with twisting tunnels and dark caves. Alice encounters many strange creatures, including the Cheshire Cat, the Queen of Hearts, and the Mad Hatter. Each creature she meets presents her with absurd puzzles or games that challenge Alice's logic and reasoning. The most notable is the Queen of Hearts, who demands Alice play a game of croquet using living creatures as mallets and balls. Despite these challenges, Alice remains determined to find a way out of Wonderland and return home. Her journey culminates in a climactic encounter with the Queen of Hearts, which ends with Alice shrinking down to size after eating a cake labeled \"EAT ME.\" The story ends with Alice back at home, but she now possesses a newfound appreciation for the absurdity and illogical nature of life.\n",
    "\n",
    "The story explores several themes, including the absurdity of life, the dangers of daydreaming, and the importance of perseverance in the face of adversity. Throughout the tale, Carroll employs a mix of logic and nonsense to create a fantastical world that challenges Alice's understanding of reality and her own sanity. The author's use of wordplay, punning, and illogical events creates an atmosphere of absurdity and surrealism that permeates the entire story. The tale also touches on themes of identity, as Alice's experiences in Wonderland cause her to question who she is and where she belongs.\n",
    "\n",
    "Overall, Alice's Adventures in Wonderland is a timeless tale that continues to captivate readers with its unique blend of logic and nonsense, absurdity, and illogical events. The story's exploration of identity, perseverance, and the nature of reality have made it a beloved classic for generations of readers.\"\"\"\n",
    "]\n",
    "\n",
    "generated_summary = \"\"\"Let me see : that would be four thousand miles down , I think— ” ( for , you see , Alice had learnt several things of this sort in her lessons in the schoolroom , and though this was not a very good opportunity for showing off her knowledge , as there was no one to listen to her , still it was good practice to say it over ) “ —yes , that ’ s about the right distance—but then I wonder what Latitude or Longitude I ’ ve got to ? ” ( Alice had no idea what Latitude was , or Longitude either , but thought they were nice grand words to say . )\n",
    "I shall be late ! ” ( when she thought it over afterwards , it occurred to her that she ought to have wondered at this , but at the time it all seemed quite natural ) ; but when the Rabbit actually took a watch out of its waistcoat-pocket , and looked at it , and then hurried on , Alice started to her feet , for it flashed across her mind that she had never before seen a rabbit with either a waistcoat-pocket , or a watch to take out of it , and burning with curiosity , she ran across the field after it , and fortunately was just in time to see it pop down a large rabbit-hole under the hedge .\n",
    "Which way ? ” , holding her hand on the top of her head to feel which way it was growing , and she was quite surprised to find that she remained the same size : to be sure , this generally happens when one eats cake , but Alice had got so much into the way of expecting nothing but out-of-the-way things to happen , that it seemed quite dull and stupid for life to go on in the common way .\n",
    "There was not a moment to be lost : away went Alice like the wind , and was just in time to hear it say , as it turned a corner , “ Oh my ears and whiskers , how late it ’ s getting ! ” She was close behind it when she turned the corner , but the Rabbit was no longer to be seen : she found herself in a long , low hall , which was lit up by a row of lamps hanging from the roof .\n",
    "“ No , I ’ ll look first , ” she said , “ and see whether it ’ s marked ‘ poison ’ or not ” ; for she had read several nice little histories about children who had got burnt , and eaten up by wild beasts and other unpleasant things , all because they would not remember the simple rules their friends had taught them : such as , that a red-hot poker will burn you if you hold it too long ; and that if you cut your finger very deeply with a knife , it usually bleeds ; and she had never forgotten that , if you drink much from a bottle marked “ poison , ” it is almost certain to disagree with you , sooner or later .\n",
    "“ What a curious feeling ! ” said Alice ; “ I must be shutting up like a telescope. ” And so it was indeed : she was now only ten inches high , and her face brightened up at the thought that she was now the right size for going through the little door into that lovely garden .\n",
    "First , however , she waited for a few minutes to see if she was going to shrink any further : she felt a little nervous about this ; “ for it might end , you know , ” said Alice to herself , “ in my going out altogether , like a candle .\n",
    "Alice was beginning to get very tired of sitting by her sister on the bank , and of having nothing to do : once or twice she had peeped into the book her sister was reading , but it had no pictures or conversations in it , “ and what is the use of a book , ” thought Alice “ without pictures or conversations ? ” So she was considering in her own mind ( as well as she could , for the hot day made her feel very sleepy and stupid ) , whether the pleasure of making a daisy-chain would be worth the trouble of getting up and picking the daisies , when suddenly a White Rabbit with pink eyes ran close by her .\n",
    "She felt that she was dozing off , and had just begun to dream that she was walking hand in hand with Dinah , and saying to her very earnestly , “ Now , Dinah , tell me the truth : did you ever eat a bat ? ” when suddenly , thump !\n",
    "“ Come , there ’ s no use in crying like that ! ” said Alice to herself , rather sharply ; “ I advise you to leave off this minute ! ” She generally gave herself very good advice , ( though she very seldom followed it ) , and sometimes she scolded herself so severely as to bring tears into her eyes ; and once she remembered trying to box her own ears for having cheated herself in a game of croquet she was playing against herself , for this curious child was very fond of pretending to be two people .\"\"\"\n",
    "\n",
    "rouge_scores = evaluate_rouge(reference_summaries, generated_summary)\n",
    "for idx, score in enumerate(rouge_scores, 1):\n",
    "    print(f\"ROUGE Score for Reference Summary {idx}: {score}\")\n"
   ]
  },
  {
   "cell_type": "markdown",
   "metadata": {},
   "source": [
    "### MinHash and SimHash"
   ]
  },
  {
   "cell_type": "code",
   "execution_count": 17,
   "metadata": {},
   "outputs": [
    {
     "name": "stderr",
     "output_type": "stream",
     "text": [
      "[nltk_data] Downloading package punkt to\n",
      "[nltk_data]     C:\\Users\\yashi\\AppData\\Roaming\\nltk_data...\n",
      "[nltk_data]   Package punkt is already up-to-date!\n"
     ]
    }
   ],
   "source": [
    "import numpy as np\n",
    "import pandas as pd\n",
    "import nltk\n",
    "from nltk.tokenize import word_tokenize, sent_tokenize\n",
    "import networkx as nx\n",
    "import itertools\n",
    "from sklearn.metrics.pairwise import cosine_similarity\n",
    "\n",
    "nltk.download('punkt')  # one time execution\n",
    "\n",
    "# Function to read text from a file\n",
    "def read_text(file_path):\n",
    "    with open(file_path, 'r', encoding='utf-8') as file:\n",
    "        text = file.read()\n",
    "    return text\n",
    "\n",
    "# Tokenization and preprocessing\n",
    "def preprocess_text(text):\n",
    "    sentences = sent_tokenize(text)\n",
    "    preprocessed_sentences = []\n",
    "    for sentence in sentences:\n",
    "        tokens = word_tokenize(sentence)\n",
    "        preprocessed_sentences.append(' '.join(tokens))\n",
    "    return preprocessed_sentences\n",
    "\n",
    "# Load word embeddings\n",
    "def load_word_embeddings(file_path):\n",
    "    word_embeddings = {}\n",
    "    with open(file_path, 'r', encoding='utf-8') as f:\n",
    "        for line in f:\n",
    "            values = line.split()\n",
    "            word = values[0]\n",
    "            coefs = np.asarray(values[1:], dtype='float32')\n",
    "            word_embeddings[word] = coefs\n",
    "    return word_embeddings\n",
    "\n",
    "# Function to generate sentence vectors\n",
    "def compute_sentence_vectors(preprocessed_text, word_embeddings):\n",
    "    sentence_vectors = []\n",
    "    for sentence in preprocessed_text:\n",
    "        if len(sentence) != 0:\n",
    "            word_vectors = [word_embeddings.get(word, np.zeros((300,))) for word in sentence.split()]\n",
    "            sentence_vector = np.mean(word_vectors, axis=0)\n",
    "        else:\n",
    "            sentence_vector = np.zeros((300,))\n",
    "        sentence_vectors.append(sentence_vector)\n",
    "    return sentence_vectors\n",
    "\n",
    "# Function to generate MinHash signature matrix\n",
    "def minhash_signature_matrix(sentence_vectors, num_hashes):\n",
    "    num_sentences = len(sentence_vectors)\n",
    "    signature_matrix = np.full((num_hashes, num_sentences), np.inf)\n",
    "    \n",
    "    for h in range(num_hashes):\n",
    "        permutation = np.random.permutation(num_sentences)\n",
    "        for j in range(num_sentences):\n",
    "            i = 0\n",
    "            while i < num_sentences and signature_matrix[h][j] == np.inf:\n",
    "                u = permutation[i]\n",
    "                if cosine_similarity(sentence_vectors[u].reshape(1, -1), sentence_vectors[j].reshape(1, -1))[0, 0] >= threshold:\n",
    "                    signature_matrix[h][j] = u\n",
    "                i += 1\n",
    "    return signature_matrix\n",
    "\n",
    "# Function to compute similarity matrix using MinHash signature matrix\n",
    "def compute_similarity_matrix(signature_matrix):\n",
    "    num_sentences = signature_matrix.shape[1]\n",
    "    sim_mat = np.zeros((num_sentences, num_sentences))\n",
    "    for i in range(num_sentences):\n",
    "        for j in range(num_sentences):\n",
    "            if i != j:\n",
    "                sim_mat[i][j] = np.sum(signature_matrix[:, i] == signature_matrix[:, j]) / signature_matrix.shape[0]\n",
    "    return sim_mat\n",
    "\n",
    "def simhash_signature_matrix(sentence_vectors, seed=42):\n",
    "    # Set the seed value for reproducibility\n",
    "    np.random.seed(seed)\n",
    "    \n",
    "    # Define random projection vectors\n",
    "    Ub = np.random.randn(300, 300)\n",
    "    \n",
    "    signature_matrix = []\n",
    "    for j in range(len(sentence_vectors[0])):\n",
    "        delta_t_j = []\n",
    "        for i in range(len(sentence_vectors)):\n",
    "            delta_t_j.append(np.sign(np.dot(Ub[:, j], sentence_vectors[i].T)))\n",
    "        signature_matrix.append(delta_t_j)\n",
    "    return np.array(signature_matrix)\n",
    "\n",
    "\n",
    "# Function to perform LSH\n",
    "def perform_lsh(signature_matrix, num_bands, threshold):\n",
    "    num_sentences = signature_matrix.shape[1]\n",
    "    num_hashes = signature_matrix.shape[0]\n",
    "    rows_per_band = num_hashes // num_bands\n",
    "    candidate_pairs = {}\n",
    "\n",
    "    for band in range(num_bands):\n",
    "        band_hash_values = {}\n",
    "        for column, row_indices in enumerate(signature_matrix[band * rows_per_band : (band + 1) * rows_per_band]):\n",
    "            for row_index in row_indices:\n",
    "                if row_index not in band_hash_values:\n",
    "                    band_hash_values[row_index] = []\n",
    "                band_hash_values[row_index].append(column)\n",
    "\n",
    "        for bucket in band_hash_values.values():\n",
    "            if len(bucket) > 1:\n",
    "                for pair in itertools.combinations(bucket, 2):\n",
    "                    if pair not in candidate_pairs:\n",
    "                        candidate_pairs[pair] = 0\n",
    "                    candidate_pairs[pair] += 1\n",
    "\n",
    "    similar_pairs = [(pair, count) for pair, count in candidate_pairs.items() if count >= threshold * num_bands]\n",
    "    return similar_pairs\n",
    "\n",
    "# Function to generate text summary using TextRank\n",
    "def generate_text_summary(ranked_sentences, num_sentences):\n",
    "    summary_sentences = ranked_sentences[:num_sentences]\n",
    "    summary_sentences.sort(key=lambda x: x[0])\n",
    "    summary = [sentence[1] for sentence in summary_sentences]\n",
    "    return summary\n",
    "\n",
    "# Generate ranked sentences using TextRank\n",
    "def rank_sentences_with_textrank(similarity_matrix):\n",
    "    nx_graph = nx.from_numpy_array(similarity_matrix)\n",
    "    scores = nx.pagerank(nx_graph)\n",
    "    ranked_sentences = sorted(((scores[i],s) for i,s in enumerate(preprocessed_text)), reverse=True)\n",
    "    return ranked_sentences\n",
    "\n",
    "# Parameters\n",
    "file_path = 'Data/alice_wonderland_chapter1.txt'\n",
    "embedding_file_path = 'glove.42B.300d.txt'\n",
    "num_hashes = 60  # Number of hash functions\n",
    "num_bands = 10   # Number of bands\n",
    "threshold = 0.7  # Similarity threshold\n",
    "num_summary_sentences = 10  # Number of sentences in the summary\n",
    "\n",
    "# Load text\n",
    "text = read_text(file_path)\n",
    "preprocessed_text = preprocess_text(text)\n",
    "\n",
    "# Load word embeddings\n",
    "word_embeddings = load_word_embeddings(embedding_file_path)\n",
    "\n",
    "# Compute sentence vectors\n",
    "sentence_vectors = compute_sentence_vectors(preprocessed_text, word_embeddings)\n"
   ]
  },
  {
   "cell_type": "markdown",
   "metadata": {},
   "source": [
    "Case 1: MinHash = True"
   ]
  },
  {
   "cell_type": "code",
   "execution_count": 18,
   "metadata": {},
   "outputs": [
    {
     "name": "stdout",
     "output_type": "stream",
     "text": [
      "Summary:\n",
      "“ What a curious feeling ! ” said Alice ; “ I must be shutting up like a telescope. ” And so it was indeed : she was now only ten inches high , and her face brightened up at the thought that she was now the right size for going through the little door into that lovely garden .\n",
      "“ Well , I ’ ll eat it , ” said Alice , “ and if it makes me grow larger , I can reach the key ; and if it makes me grow smaller , I can creep under the door ; so either way I ’ ll get into the garden , and I don ’ t care which happens ! ” She ate a little bit , and said anxiously to herself , “ Which way ?\n",
      "“ Well ! ” thought Alice to herself , “ after such a fall as this , I shall think nothing of tumbling down stairs !\n",
      "“ No , I ’ ll look first , ” she said , “ and see whether it ’ s marked ‘ poison ’ or not ” ; for she had read several nice little histories about children who had got burnt , and eaten up by wild beasts and other unpleasant things , all because they would not remember the simple rules their friends had taught them : such as , that a red-hot poker will burn you if you hold it too long ; and that if you cut your finger very deeply with a knife , it usually bleeds ; and she had never forgotten that , if you drink much from a bottle marked “ poison , ” it is almost certain to disagree with you , sooner or later .\n",
      "“ I wonder if I shall fall right through the earth !\n",
      "“ I wonder how many miles I ’ ve fallen by this time ? ” she said aloud .\n",
      "“ I must be getting somewhere near the centre of the earth .\n",
      "“ I hope they ’ ll remember her saucer of milk at tea-time .\n",
      "“ Dinah ’ ll miss me very much to-night , I should think ! ” ( Dinah was the cat . )\n",
      "“ Come , there ’ s no use in crying like that ! ” said Alice to herself , rather sharply ; “ I advise you to leave off this minute ! ” She generally gave herself very good advice , ( though she very seldom followed it ) , and sometimes she scolded herself so severely as to bring tears into her eyes ; and once she remembered trying to box her own ears for having cheated herself in a game of croquet she was playing against herself , for this curious child was very fond of pretending to be two people .\n"
     ]
    }
   ],
   "source": [
    "# Choose between MinHash or SimHash\n",
    "use_minhash = True\n",
    "\n",
    "# Generate MinHash or SimHash signature matrix\n",
    "if use_minhash:\n",
    "    signature_matrix = minhash_signature_matrix(sentence_vectors, num_hashes)\n",
    "else:\n",
    "    signature_matrix = simhash_signature_matrix(sentence_vectors)\n",
    "\n",
    "# Compute similarity matrix using MinHash or SimHash signature matrix\n",
    "similarity_matrix = compute_similarity_matrix(signature_matrix)\n",
    "\n",
    "# Perform LSH\n",
    "similar_pairs = perform_lsh(similarity_matrix, num_bands, threshold)\n",
    "\n",
    "# Create a graph from the similarity matrix\n",
    "nx_graph = nx.Graph(similarity_matrix)\n",
    "\n",
    "# Compute PageRank scores\n",
    "scores = nx.pagerank(nx_graph)\n",
    "\n",
    "# Rank sentences based on PageRank scores\n",
    "ranked_sentences = sorted(((scores[i], s) for i, s in enumerate(preprocessed_text)), reverse=True)\n",
    "\n",
    "# Extract top 10 sentences as the summary\n",
    "print(\"Summary:\")\n",
    "for i in range(num_summary_sentences):\n",
    "    print(ranked_sentences[i][1])"
   ]
  },
  {
   "cell_type": "markdown",
   "metadata": {},
   "source": [
    "Case 2: MinHash = False"
   ]
  },
  {
   "cell_type": "code",
   "execution_count": 19,
   "metadata": {},
   "outputs": [
    {
     "name": "stdout",
     "output_type": "stream",
     "text": [
      "Summary:\n",
      "“ What a curious feeling ! ” said Alice ; “ I must be shutting up like a telescope. ” And so it was indeed : she was now only ten inches high , and her face brightened up at the thought that she was now the right size for going through the little door into that lovely garden .\n",
      "There was not a moment to be lost : away went Alice like the wind , and was just in time to hear it say , as it turned a corner , “ Oh my ears and whiskers , how late it ’ s getting ! ” She was close behind it when she turned the corner , but the Rabbit was no longer to be seen : she found herself in a long , low hall , which was lit up by a row of lamps hanging from the roof .\n",
      "Alice was beginning to get very tired of sitting by her sister on the bank , and of having nothing to do : once or twice she had peeped into the book her sister was reading , but it had no pictures or conversations in it , “ and what is the use of a book , ” thought Alice “ without pictures or conversations ? ” So she was considering in her own mind ( as well as she could , for the hot day made her feel very sleepy and stupid ) , whether the pleasure of making a daisy-chain would be worth the trouble of getting up and picking the daisies , when suddenly a White Rabbit with pink eyes ran close by her .\n",
      "Which way ? ” , holding her hand on the top of her head to feel which way it was growing , and she was quite surprised to find that she remained the same size : to be sure , this generally happens when one eats cake , but Alice had got so much into the way of expecting nothing but out-of-the-way things to happen , that it seemed quite dull and stupid for life to go on in the common way .\n",
      "when she got to the door , she found she had forgotten the little golden key , and when she went back to the table for it , she found she could not possibly reach it : she could see it quite plainly through the glass , and she tried her best to climb up one of the legs of the table , but it was too slippery ; and when she had tired herself out with trying , the poor little thing sat down and cried .\n",
      "Let me see : that would be four thousand miles down , I think— ” ( for , you see , Alice had learnt several things of this sort in her lessons in the schoolroom , and though this was not a very good opportunity for showing off her knowledge , as there was no one to listen to her , still it was good practice to say it over ) “ —yes , that ’ s about the right distance—but then I wonder what Latitude or Longitude I ’ ve got to ? ” ( Alice had no idea what Latitude was , or Longitude either , but thought they were nice grand words to say . )\n",
      "How she longed to get out of that dark hall , and wander about among those beds of bright flowers and those cool fountains , but she could not even get her head through the doorway ; “ and even if my head would go through , ” thought poor Alice , “ it would be of very little use without my shoulders .\n",
      "I shall be late ! ” ( when she thought it over afterwards , it occurred to her that she ought to have wondered at this , but at the time it all seemed quite natural ) ; but when the Rabbit actually took a watch out of its waistcoat-pocket , and looked at it , and then hurried on , Alice started to her feet , for it flashed across her mind that she had never before seen a rabbit with either a waistcoat-pocket , or a watch to take out of it , and burning with curiosity , she ran across the field after it , and fortunately was just in time to see it pop down a large rabbit-hole under the hedge .\n",
      "There seemed to be no use in waiting by the little door , so she went back to the table , half hoping she might find another key on it , or at any rate a book of rules for shutting people up like telescopes : this time she found a little bottle on it , ( “ which certainly was not here before , ” said Alice , ) and round the neck of the bottle was a paper label , with the words “ DRINK ME , ” beautifully printed on it in large letters .\n",
      "Either the well was very deep , or she fell very slowly , for she had plenty of time as she went down to look about her and to wonder what was going to happen next .\n"
     ]
    }
   ],
   "source": [
    "# Choose between MinHash or SimHash\n",
    "use_minhash = False\n",
    "\n",
    "# Generate MinHash or SimHash signature matrix\n",
    "if use_minhash:\n",
    "    signature_matrix = minhash_signature_matrix(sentence_vectors, num_hashes)\n",
    "else:\n",
    "    signature_matrix = simhash_signature_matrix(sentence_vectors)\n",
    "\n",
    "# Compute similarity matrix using MinHash or SimHash signature matrix\n",
    "similarity_matrix = compute_similarity_matrix(signature_matrix)\n",
    "\n",
    "# Perform LSH\n",
    "similar_pairs = perform_lsh(similarity_matrix, num_bands, threshold)\n",
    "\n",
    "# Create a graph from the similarity matrix\n",
    "nx_graph = nx.Graph(similarity_matrix)\n",
    "\n",
    "# Compute PageRank scores\n",
    "scores = nx.pagerank(nx_graph)\n",
    "\n",
    "# Rank sentences based on PageRank scores\n",
    "ranked_sentences = sorted(((scores[i], s) for i, s in enumerate(preprocessed_text)), reverse=True)\n",
    "\n",
    "# Extract top 10 sentences as the summary\n",
    "print(\"Summary:\")\n",
    "for i in range(num_summary_sentences):\n",
    "    print(ranked_sentences[i][1])"
   ]
  },
  {
   "cell_type": "markdown",
   "metadata": {},
   "source": [
    "### ROUGE Score: MinHash"
   ]
  },
  {
   "cell_type": "code",
   "execution_count": 20,
   "metadata": {},
   "outputs": [
    {
     "name": "stdout",
     "output_type": "stream",
     "text": [
      "ROUGE Score for Reference Summary 1: {'rouge1': Score(precision=0.26649746192893403, recall=0.28610354223433243, fmeasure=0.27595269382391585), 'rougeL': Score(precision=0.1218274111675127, recall=0.1307901907356948, fmeasure=0.126149802890933)}\n"
     ]
    }
   ],
   "source": [
    "from rouge_score import rouge_scorer\n",
    "\n",
    "def evaluate_rouge(reference, summary):\n",
    "    \"\"\"\n",
    "    Evaluate the ROUGE score of the generated summary compared to the reference summary.\n",
    "\n",
    "    Args:\n",
    "    - reference: List of reference summaries (list of strings)\n",
    "    - summary: Generated summary (string)\n",
    "\n",
    "    Returns:\n",
    "    - rouge_score: ROUGE score (dict)\n",
    "    \"\"\"\n",
    "    # Create a RougeScorer object\n",
    "    scorer = rouge_scorer.RougeScorer(['rouge1', 'rougeL'], use_stemmer=True)\n",
    "    # Calculate the ROUGE score for each reference summary\n",
    "    scores = []\n",
    "    for ref in reference:\n",
    "        score = scorer.score(ref, summary)\n",
    "        scores.append(score)\n",
    "    return scores\n",
    "\n",
    "reference_summaries = [\n",
    "    \"\"\"Alice's Adventures in Wonderland is a fantastical tale of a young girl who falls down a rabbit hole and enters a strange and absurd world filled with illogical creatures and events. The story begins with Alice feeling bored and dissatisfied with her life at home, leading her to daydream about adventures in the countryside. Suddenly, she notices a white rabbit wearing a waistcoat running quickly down a nearby hill, prompting Alice to follow after it. She falls down a deep hole and finds herself in a subterranean area filled with twisting tunnels and dark caves. Alice encounters many strange creatures, including the Cheshire Cat, the Queen of Hearts, and the Mad Hatter. Each creature she meets presents her with absurd puzzles or games that challenge Alice's logic and reasoning. The most notable is the Queen of Hearts, who demands Alice play a game of croquet using living creatures as mallets and balls. Despite these challenges, Alice remains determined to find a way out of Wonderland and return home. Her journey culminates in a climactic encounter with the Queen of Hearts, which ends with Alice shrinking down to size after eating a cake labeled \"EAT ME.\" The story ends with Alice back at home, but she now possesses a newfound appreciation for the absurdity and illogical nature of life.\n",
    "\n",
    "The story explores several themes, including the absurdity of life, the dangers of daydreaming, and the importance of perseverance in the face of adversity. Throughout the tale, Carroll employs a mix of logic and nonsense to create a fantastical world that challenges Alice's understanding of reality and her own sanity. The author's use of wordplay, punning, and illogical events creates an atmosphere of absurdity and surrealism that permeates the entire story. The tale also touches on themes of identity, as Alice's experiences in Wonderland cause her to question who she is and where she belongs.\n",
    "\n",
    "Overall, Alice's Adventures in Wonderland is a timeless tale that continues to captivate readers with its unique blend of logic and nonsense, absurdity, and illogical events. The story's exploration of identity, perseverance, and the nature of reality have made it a beloved classic for generations of readers.\"\"\"\n",
    "]\n",
    "\n",
    "generated_summary = \"\"\"“ What a curious feeling ! ” said Alice ; “ I must be shutting up like a telescope. ” And so it was indeed : she was now only ten inches high , and her face brightened up at the thought that she was now the right size for going through the little door into that lovely garden .\n",
    "“ Well , I ’ ll eat it , ” said Alice , “ and if it makes me grow larger , I can reach the key ; and if it makes me grow smaller , I can creep under the door ; so either way I ’ ll get into the garden , and I don ’ t care which happens ! ” She ate a little bit , and said anxiously to herself , “ Which way ?\n",
    "“ Well ! ” thought Alice to herself , “ after such a fall as this , I shall think nothing of tumbling down stairs !\n",
    "“ No , I ’ ll look first , ” she said , “ and see whether it ’ s marked ‘ poison ’ or not ” ; for she had read several nice little histories about children who had got burnt , and eaten up by wild beasts and other unpleasant things , all because they would not remember the simple rules their friends had taught them : such as , that a red-hot poker will burn you if you hold it too long ; and that if you cut your finger very deeply with a knife , it usually bleeds ; and she had never forgotten that , if you drink much from a bottle marked “ poison , ” it is almost certain to disagree with you , sooner or later .\n",
    "“ I wonder if I shall fall right through the earth !\n",
    "“ I wonder how many miles I ’ ve fallen by this time ? ” she said aloud .\n",
    "“ I hope they ’ ll remember her saucer of milk at tea-time .\n",
    "“ Dinah ’ ll miss me very much to-night , I should think ! ” ( Dinah was the cat . )\n",
    "“ Come , there ’ s no use in crying like that ! ” said Alice to herself , rather sharply ; “ I advise you to leave off this minute ! ” She generally gave herself very good advice , ( though she very seldom followed it ) , and sometimes she scolded herself so severely as to bring tears into her eyes ; and once she remembered trying to box her own ears for having cheated herself in a game of croquet she was playing against herself , for this curious child was very fond of pretending to be two people .\n",
    "“ But it ’ s no use now , ” thought poor Alice , “ to pretend to be two people !\"\"\"\n",
    "\n",
    "rouge_scores = evaluate_rouge(reference_summaries, generated_summary)\n",
    "for idx, score in enumerate(rouge_scores, 1):\n",
    "    print(f\"ROUGE Score for Reference Summary {idx}: {score}\")\n"
   ]
  },
  {
   "cell_type": "markdown",
   "metadata": {},
   "source": [
    "### ROUGE Score: SimHash"
   ]
  },
  {
   "cell_type": "code",
   "execution_count": 21,
   "metadata": {},
   "outputs": [
    {
     "name": "stdout",
     "output_type": "stream",
     "text": [
      "ROUGE Score for Reference Summary 1: {'rouge1': Score(precision=0.22919334186939821, recall=0.4877384196185286, fmeasure=0.3118466898954704), 'rougeL': Score(precision=0.11139564660691421, recall=0.23705722070844687, fmeasure=0.15156794425087108)}\n"
     ]
    }
   ],
   "source": [
    "from rouge_score import rouge_scorer\n",
    "\n",
    "def evaluate_rouge(reference, summary):\n",
    "    \"\"\"\n",
    "    Evaluate the ROUGE score of the generated summary compared to the reference summary.\n",
    "\n",
    "    Args:\n",
    "    - reference: List of reference summaries (list of strings)\n",
    "    - summary: Generated summary (string)\n",
    "\n",
    "    Returns:\n",
    "    - rouge_score: ROUGE score (dict)\n",
    "    \"\"\"\n",
    "    # Create a RougeScorer object\n",
    "    scorer = rouge_scorer.RougeScorer(['rouge1', 'rougeL'], use_stemmer=True)\n",
    "    # Calculate the ROUGE score for each reference summary\n",
    "    scores = []\n",
    "    for ref in reference:\n",
    "        score = scorer.score(ref, summary)\n",
    "        scores.append(score)\n",
    "    return scores\n",
    "\n",
    "reference_summaries = [\n",
    "    \"\"\"Alice's Adventures in Wonderland is a fantastical tale of a young girl who falls down a rabbit hole and enters a strange and absurd world filled with illogical creatures and events. The story begins with Alice feeling bored and dissatisfied with her life at home, leading her to daydream about adventures in the countryside. Suddenly, she notices a white rabbit wearing a waistcoat running quickly down a nearby hill, prompting Alice to follow after it. She falls down a deep hole and finds herself in a subterranean area filled with twisting tunnels and dark caves. Alice encounters many strange creatures, including the Cheshire Cat, the Queen of Hearts, and the Mad Hatter. Each creature she meets presents her with absurd puzzles or games that challenge Alice's logic and reasoning. The most notable is the Queen of Hearts, who demands Alice play a game of croquet using living creatures as mallets and balls. Despite these challenges, Alice remains determined to find a way out of Wonderland and return home. Her journey culminates in a climactic encounter with the Queen of Hearts, which ends with Alice shrinking down to size after eating a cake labeled \"EAT ME.\" The story ends with Alice back at home, but she now possesses a newfound appreciation for the absurdity and illogical nature of life.\n",
    "\n",
    "The story explores several themes, including the absurdity of life, the dangers of daydreaming, and the importance of perseverance in the face of adversity. Throughout the tale, Carroll employs a mix of logic and nonsense to create a fantastical world that challenges Alice's understanding of reality and her own sanity. The author's use of wordplay, punning, and illogical events creates an atmosphere of absurdity and surrealism that permeates the entire story. The tale also touches on themes of identity, as Alice's experiences in Wonderland cause her to question who she is and where she belongs.\n",
    "\n",
    "Overall, Alice's Adventures in Wonderland is a timeless tale that continues to captivate readers with its unique blend of logic and nonsense, absurdity, and illogical events. The story's exploration of identity, perseverance, and the nature of reality have made it a beloved classic for generations of readers.\"\"\"\n",
    "]\n",
    "\n",
    "generated_summary = \"\"\"“ What a curious feeling ! ” said Alice ; “ I must be shutting up like a telescope. ” And so it was indeed : she was now only ten inches high , and her face brightened up at the thought that she was now the right size for going through the little door into that lovely garden .\n",
    "There was not a moment to be lost : away went Alice like the wind , and was just in time to hear it say , as it turned a corner , “ Oh my ears and whiskers , how late it ’ s getting ! ” She was close behind it when she turned the corner , but the Rabbit was no longer to be seen : she found herself in a long , low hall , which was lit up by a row of lamps hanging from the roof .\n",
    "Alice was beginning to get very tired of sitting by her sister on the bank , and of having nothing to do : once or twice she had peeped into the book her sister was reading , but it had no pictures or conversations in it , “ and what is the use of a book , ” thought Alice “ without pictures or conversations ? ” So she was considering in her own mind ( as well as she could , for the hot day made her feel very sleepy and stupid ) , whether the pleasure of making a daisy-chain would be worth the trouble of getting up and picking the daisies , when suddenly a White Rabbit with pink eyes ran close by her .\n",
    "Which way ? ” , holding her hand on the top of her head to feel which way it was growing , and she was quite surprised to find that she remained the same size : to be sure , this generally happens when one eats cake , but Alice had got so much into the way of expecting nothing but out-of-the-way things to happen , that it seemed quite dull and stupid for life to go on in the common way .\n",
    "when she got to the door , she found she had forgotten the little golden key , and when she went back to the table for it , she found she could not possibly reach it : she could see it quite plainly through the glass , and she tried her best to climb up one of the legs of the table , but it was too slippery ; and when she had tired herself out with trying , the poor little thing sat down and cried .\n",
    "Let me see : that would be four thousand miles down , I think— ” ( for , you see , Alice had learnt several things of this sort in her lessons in the schoolroom , and though this was not a very good opportunity for showing off her knowledge , as there was no one to listen to her , still it was good practice to say it over ) “ —yes , that ’ s about the right distance—but then I wonder what Latitude or Longitude I ’ ve got to ? ” ( Alice had no idea what Latitude was , or Longitude either , but thought they were nice grand words to say . )\n",
    "How she longed to get out of that dark hall , and wander about among those beds of bright flowers and those cool fountains , but she could not even get her head through the doorway ; “ and even if my head would go through , ” thought poor Alice , “ it would be of very little use without my shoulders .\n",
    "I shall be late ! ” ( when she thought it over afterwards , it occurred to her that she ought to have wondered at this , but at the time it all seemed quite natural ) ; but when the Rabbit actually took a watch out of its waistcoat-pocket , and looked at it , and then hurried on , Alice started to her feet , for it flashed across her mind that she had never before seen a rabbit with either a waistcoat-pocket , or a watch to take out of it , and burning with curiosity , she ran across the field after it , and fortunately was just in time to see it pop down a large rabbit-hole under the hedge .\n",
    "There seemed to be no use in waiting by the little door , so she went back to the table , half hoping she might find another key on it , or at any rate a book of rules for shutting people up like telescopes : this time she found a little bottle on it , ( “ which certainly was not here before , ” said Alice , ) and round the neck of the bottle was a paper label , with the words “ DRINK ME , ” beautifully printed on it in large letters .\n",
    "Either the well was very deep , or she fell very slowly , for she had plenty of time as she went down to look about her and to wonder what was going to happen next .\"\"\"\n",
    "\n",
    "rouge_scores = evaluate_rouge(reference_summaries, generated_summary)\n",
    "for idx, score in enumerate(rouge_scores, 1):\n",
    "    print(f\"ROUGE Score for Reference Summary {idx}: {score}\")\n"
   ]
  },
  {
   "cell_type": "markdown",
   "metadata": {},
   "source": [
    "### Plot to visualize ROUGE scores"
   ]
  },
  {
   "cell_type": "code",
   "execution_count": 1,
   "metadata": {},
   "outputs": [
    {
     "data": {
      "image/png": "[encoded data removed]",
      "text/plain": [
       "<Figure size 1000x800 with 3 Axes>"
      ]
     },
     "metadata": {},
     "output_type": "display_data"
    }
   ],
   "source": [
    "import matplotlib.pyplot as plt\n",
    "\n",
    "# ROUGE scores for different summarization techniques\n",
    "techniques = ['Cosine Similarity', 'MinHash', 'SimHash']\n",
    "metrics = ['Precision', 'Recall', 'F1-Score']\n",
    "\n",
    "rouge_scores = {\n",
    "    'Cosine Similarity': {'Precision': 0.218, 'Recall': 0.485, 'F1-Score': 0.301},\n",
    "    'MinHash': {'Precision': 0.266, 'Recall': 0.286, 'F1-Score': 0.276},\n",
    "    'SimHash': {'Precision': 0.229, 'Recall': 0.488, 'F1-Score': 0.312}\n",
    "}\n",
    "\n",
    "# Plotting bar charts\n",
    "fig, axes = plt.subplots(nrows=len(metrics), ncols=1, figsize=(10, 8))\n",
    "\n",
    "for i, metric in enumerate(metrics):\n",
    "    ax = axes[i]\n",
    "    scores = [rouge_scores[technique][metric] for technique in techniques]\n",
    "    ax.bar(techniques, scores, color=['blue', 'green', 'orange'])\n",
    "    ax.set_ylabel(metric)\n",
    "    ax.set_ylim(0, 0.6)  # Adjust the y-axis limit as needed\n",
    "    ax.set_title(f'{metric} Scores for Different Summarization Techniques')\n",
    "\n",
    "plt.tight_layout()\n",
    "plt.show()\n"
   ]
  },
  {
   "cell_type": "code",
   "execution_count": null,
   "metadata": {},
   "outputs": [],
   "source": []
  }
 ],
 "metadata": {
  "kernelspec": {
   "display_name": "Python 3",
   "language": "python",
   "name": "python3"
  },
  "language_info": {
   "codemirror_mode": {
    "name": "ipython",
    "version": 3
   },
   "file_extension": ".py",
   "mimetype": "text/x-python",
   "name": "python",
   "nbconvert_exporter": "python",
   "pygments_lexer": "ipython3",
   "version": "3.11.9"
  }
 },
 "nbformat": 4,
 "nbformat_minor": 2
}
